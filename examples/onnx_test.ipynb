{
 "cells": [
  {
   "cell_type": "markdown",
   "id": "0",
   "metadata": {},
   "source": [
    "# This notebook shows example to load the CHGNet for prediction\n"
   ]
  },
  {
   "cell_type": "code",
   "execution_count": null,
   "id": "2",
   "metadata": {},
   "outputs": [],
   "source": [
    "import numpy as np\n",
    "import torch\n",
    "from pymatgen.core import Structure\n",
    "\n",
    "from chgnet.model import CHGNet\n",
    "\n",
    "# If the above line fails in Google Colab due to numpy version issue,\n",
    "# please restart the runtime, and the problem will be solved\n",
    "\n",
    "np.set_printoptions(precision=4, suppress=True)"
   ]
  },
  {
   "cell_type": "markdown",
   "source": [
    "### Override torch.bincount (not supported by ONNX)"
   ],
   "metadata": {
    "collapsed": false
   },
   "id": "f218521859cc6855"
  },
  {
   "cell_type": "code",
   "execution_count": null,
   "outputs": [],
   "source": [
    "def new_bincount(input_tensor, minlength: int = 0):\n",
    "    counts = torch.tensor([], dtype=torch.int64)\n",
    "    output_length = max(minlength, int(torch.max(input_tensor)) + 1)\n",
    "    for value in range(output_length):\n",
    "        value_count = (input_tensor == value).sum()\n",
    "        new_count_tensor = torch.tensor([value_count])\n",
    "        counts = torch.cat([counts, new_count_tensor])\n",
    "    return counts\n",
    "\n",
    "torch.bincount=new_bincount"
   ],
   "metadata": {
    "collapsed": false
   },
   "id": "103aea83794664d9"
  },
  {
   "cell_type": "markdown",
   "id": "3",
   "metadata": {},
   "source": [
    "### Read structure from a json or cif file\n"
   ]
  },
  {
   "cell_type": "code",
   "execution_count": null,
   "id": "4",
   "metadata": {},
   "outputs": [],
   "source": [
    "structure = Structure.from_file(\"/Users/chrisfajardo/git_repos/pochi/Li.cif\")"
   ]
  },
  {
   "cell_type": "markdown",
   "id": "5",
   "metadata": {},
   "source": [
    "### Load Model\n"
   ]
  },
  {
   "cell_type": "code",
   "execution_count": null,
   "id": "6",
   "metadata": {},
   "outputs": [],
   "source": [
    "chgnet = CHGNet.load()\n",
    "\n",
    "# Alternatively you can read your own model\n",
    "# chgnet = CHGNet.from_file(model_path)"
   ]
  },
  {
   "cell_type": "code",
   "execution_count": null,
   "outputs": [],
   "source": [
    "graph = chgnet.graph_converter(structure)"
   ],
   "metadata": {
    "collapsed": false
   },
   "id": "d086ad190d64b28c"
  },
  {
   "cell_type": "code",
   "execution_count": null,
   "outputs": [],
   "source": [
    "chgnet = chgnet.to(\"cpu\")"
   ],
   "metadata": {
    "collapsed": false
   },
   "id": "ee9e0a1fa1a1896c"
  },
  {
   "cell_type": "code",
   "execution_count": null,
   "outputs": [],
   "source": [
    "chgnet = chgnet.eval()"
   ],
   "metadata": {
    "collapsed": false
   },
   "id": "a8550d6588a53450"
  },
  {
   "cell_type": "code",
   "execution_count": null,
   "outputs": [],
   "source": [
    "chgnet.forward([list(graph)])"
   ],
   "metadata": {
    "collapsed": false
   },
   "id": "fc23d27660f04770"
  },
  {
   "cell_type": "markdown",
   "source": [
    "### Create traced model and save TorchScript"
   ],
   "metadata": {
    "collapsed": false
   },
   "id": "c3b7ae9f37b0eb25"
  },
  {
   "cell_type": "code",
   "execution_count": null,
   "outputs": [],
   "source": [
    "traced = torch.jit.trace(chgnet, ([list(graph)],))"
   ],
   "metadata": {
    "collapsed": false
   },
   "id": "f364683f7cc70548"
  },
  {
   "cell_type": "code",
   "execution_count": null,
   "outputs": [],
   "source": [
    "traced.save(\"chgnet.torchscript\")"
   ],
   "metadata": {
    "collapsed": false
   },
   "id": "ee08d43d495508fe"
  },
  {
   "cell_type": "code",
   "execution_count": null,
   "outputs": [],
   "source": [
    "c = torch.jit.load(\"chgnet.torchscript\")"
   ],
   "metadata": {
    "collapsed": false
   },
   "id": "a5b9964c9a39f823"
  },
  {
   "cell_type": "code",
   "execution_count": null,
   "outputs": [],
   "source": [
    "c.forward([list(graph)])"
   ],
   "metadata": {
    "collapsed": false
   },
   "id": "5b726772ab924163"
  },
  {
   "cell_type": "markdown",
   "source": [
    "### Try to export to ONNX"
   ],
   "metadata": {
    "collapsed": false
   },
   "id": "87d14bfda7b23bef"
  },
  {
   "cell_type": "code",
   "execution_count": 14,
   "outputs": [
    {
     "ename": "SymbolicValueError",
     "evalue": "Cannot determine scalar type for this '<class 'torch.TensorType'>' instance and a default value was not provided.  [Caused by the value '182 defined in (%182 : Tensor = onnx::Gather[axis=1](%157, %149), scope: chgnet.model.model.CHGNet:: # /Users/chrisfajardo/git_repos/chgnet/chgnet/model/model.py:875:0\n)' (type 'Tensor') in the TorchScript graph. The containing node has kind 'onnx::Gather'.] \n    (node defined in /Users/chrisfajardo/git_repos/chgnet/chgnet/model/model.py(875): get_batch_graph_from_graphs\n/Users/chrisfajardo/git_repos/chgnet/chgnet/model/model.py(382): forward\n/Users/chrisfajardo/miniconda3/envs/chgnet/lib/python3.9/site-packages/torch/nn/modules/module.py(1522): _slow_forward\n/Users/chrisfajardo/miniconda3/envs/chgnet/lib/python3.9/site-packages/torch/nn/modules/module.py(1541): _call_impl\n/Users/chrisfajardo/miniconda3/envs/chgnet/lib/python3.9/site-packages/torch/nn/modules/module.py(1532): _wrapped_call_impl\n/Users/chrisfajardo/miniconda3/envs/chgnet/lib/python3.9/site-packages/torch/jit/_trace.py(1088): trace_module\n/Users/chrisfajardo/miniconda3/envs/chgnet/lib/python3.9/site-packages/torch/jit/_trace.py(820): trace\n/var/folders/89/hcxcrt7s2zb8yq5x9mmscspw0000gq/T/ipykernel_4148/2315511256.py(1): <module>\n/Users/chrisfajardo/miniconda3/envs/chgnet/lib/python3.9/site-packages/IPython/core/interactiveshell.py(3526): run_code\n/Users/chrisfajardo/miniconda3/envs/chgnet/lib/python3.9/site-packages/IPython/core/interactiveshell.py(3466): run_ast_nodes\n/Users/chrisfajardo/miniconda3/envs/chgnet/lib/python3.9/site-packages/IPython/core/interactiveshell.py(3284): run_cell_async\n/Users/chrisfajardo/miniconda3/envs/chgnet/lib/python3.9/site-packages/IPython/core/async_helpers.py(129): _pseudo_sync_runner\n/Users/chrisfajardo/miniconda3/envs/chgnet/lib/python3.9/site-packages/IPython/core/interactiveshell.py(3079): _run_cell\n/Users/chrisfajardo/miniconda3/envs/chgnet/lib/python3.9/site-packages/IPython/core/interactiveshell.py(3024): run_cell\n/Users/chrisfajardo/miniconda3/envs/chgnet/lib/python3.9/site-packages/ipykernel/zmqshell.py(549): run_cell\n/Users/chrisfajardo/miniconda3/envs/chgnet/lib/python3.9/site-packages/ipykernel/ipkernel.py(429): do_execute\n/Users/chrisfajardo/miniconda3/envs/chgnet/lib/python3.9/site-packages/ipykernel/kernelbase.py(767): execute_request\n/Users/chrisfajardo/miniconda3/envs/chgnet/lib/python3.9/site-packages/ipykernel/kernelbase.py(429): dispatch_shell\n/Users/chrisfajardo/miniconda3/envs/chgnet/lib/python3.9/site-packages/ipykernel/kernelbase.py(523): process_one\n/Users/chrisfajardo/miniconda3/envs/chgnet/lib/python3.9/site-packages/ipykernel/kernelbase.py(534): dispatch_queue\n/Users/chrisfajardo/miniconda3/envs/chgnet/lib/python3.9/asyncio/events.py(80): _run\n/Users/chrisfajardo/miniconda3/envs/chgnet/lib/python3.9/asyncio/base_events.py(1905): _run_once\n/Users/chrisfajardo/miniconda3/envs/chgnet/lib/python3.9/asyncio/base_events.py(601): run_forever\n/Users/chrisfajardo/miniconda3/envs/chgnet/lib/python3.9/site-packages/tornado/platform/asyncio.py(195): start\n/Users/chrisfajardo/miniconda3/envs/chgnet/lib/python3.9/site-packages/ipykernel/kernelapp.py(701): start\n/Users/chrisfajardo/miniconda3/envs/chgnet/lib/python3.9/site-packages/traitlets/config/application.py(992): launch_instance\n/Users/chrisfajardo/miniconda3/envs/chgnet/lib/python3.9/site-packages/ipykernel_launcher.py(17): <module>\n/Users/chrisfajardo/miniconda3/envs/chgnet/lib/python3.9/runpy.py(87): _run_code\n/Users/chrisfajardo/miniconda3/envs/chgnet/lib/python3.9/runpy.py(197): _run_module_as_main\n)\n\n    Inputs:\n        #0: 157 defined in (%155 : Tensor, %156 : Tensor, %157 : Tensor, %158 : Tensor, %image : Tensor, %160 : Tensor, %undirected2directed : Tensor, %162 : Tensor, %163 : Tensor, %lattice : Tensor = prim::ListUnpack(%154), scope: chgnet.model.model.CHGNet::\n    )  (type 'Tensor')\n        #1: 149 defined in (%149 : Long(device=cpu) = onnx::Constant[value={0}](), scope: chgnet.model.model.CHGNet::\n    )  (type 'Tensor')\n    Outputs:\n        #0: 182 defined in (%182 : Tensor = onnx::Gather[axis=1](%157, %149), scope: chgnet.model.model.CHGNet:: # /Users/chrisfajardo/git_repos/chgnet/chgnet/model/model.py:875:0\n    )  (type 'Tensor')",
     "output_type": "error",
     "traceback": [
      "\u001B[0;31m---------------------------------------------------------------------------\u001B[0m",
      "\u001B[0;31mSymbolicValueError\u001B[0m                        Traceback (most recent call last)",
      "Cell \u001B[0;32mIn[14], line 1\u001B[0m\n\u001B[0;32m----> 1\u001B[0m \u001B[43mtorch\u001B[49m\u001B[38;5;241;43m.\u001B[39;49m\u001B[43monnx\u001B[49m\u001B[38;5;241;43m.\u001B[39;49m\u001B[43mexport\u001B[49m\u001B[43m(\u001B[49m\u001B[43mtraced\u001B[49m\u001B[43m,\u001B[49m\u001B[43m \u001B[49m\u001B[43m[\u001B[49m\u001B[38;5;28;43mlist\u001B[39;49m\u001B[43m(\u001B[49m\u001B[43mgraph\u001B[49m\u001B[43m)\u001B[49m\u001B[43m]\u001B[49m\u001B[43m,\u001B[49m\u001B[43m \u001B[49m\u001B[43mf\u001B[49m\u001B[38;5;241;43m=\u001B[39;49m\u001B[38;5;124;43m\"\u001B[39;49m\u001B[38;5;124;43mchgnet.onnx\u001B[39;49m\u001B[38;5;124;43m\"\u001B[39;49m\u001B[43m)\u001B[49m\n",
      "File \u001B[0;32m~/miniconda3/envs/chgnet/lib/python3.9/site-packages/torch/onnx/utils.py:516\u001B[0m, in \u001B[0;36mexport\u001B[0;34m(model, args, f, export_params, verbose, training, input_names, output_names, operator_export_type, opset_version, do_constant_folding, dynamic_axes, keep_initializers_as_inputs, custom_opsets, export_modules_as_functions, autograd_inlining)\u001B[0m\n\u001B[1;32m    189\u001B[0m \u001B[38;5;129m@_beartype\u001B[39m\u001B[38;5;241m.\u001B[39mbeartype\n\u001B[1;32m    190\u001B[0m \u001B[38;5;28;01mdef\u001B[39;00m \u001B[38;5;21mexport\u001B[39m(\n\u001B[1;32m    191\u001B[0m     model: Union[torch\u001B[38;5;241m.\u001B[39mnn\u001B[38;5;241m.\u001B[39mModule, torch\u001B[38;5;241m.\u001B[39mjit\u001B[38;5;241m.\u001B[39mScriptModule, torch\u001B[38;5;241m.\u001B[39mjit\u001B[38;5;241m.\u001B[39mScriptFunction],\n\u001B[0;32m   (...)\u001B[0m\n\u001B[1;32m    208\u001B[0m     autograd_inlining: Optional[\u001B[38;5;28mbool\u001B[39m] \u001B[38;5;241m=\u001B[39m \u001B[38;5;28;01mTrue\u001B[39;00m,\n\u001B[1;32m    209\u001B[0m ) \u001B[38;5;241m-\u001B[39m\u001B[38;5;241m>\u001B[39m \u001B[38;5;28;01mNone\u001B[39;00m:\n\u001B[1;32m    210\u001B[0m \u001B[38;5;250m    \u001B[39m\u001B[38;5;124mr\u001B[39m\u001B[38;5;124;03m\"\"\"Exports a model into ONNX format.\u001B[39;00m\n\u001B[1;32m    211\u001B[0m \n\u001B[1;32m    212\u001B[0m \u001B[38;5;124;03m    If ``model`` is not a :class:`torch.jit.ScriptModule` nor a\u001B[39;00m\n\u001B[0;32m   (...)\u001B[0m\n\u001B[1;32m    513\u001B[0m \u001B[38;5;124;03m            All errors are subclasses of :class:`errors.OnnxExporterError`.\u001B[39;00m\n\u001B[1;32m    514\u001B[0m \u001B[38;5;124;03m    \"\"\"\u001B[39;00m\n\u001B[0;32m--> 516\u001B[0m     \u001B[43m_export\u001B[49m\u001B[43m(\u001B[49m\n\u001B[1;32m    517\u001B[0m \u001B[43m        \u001B[49m\u001B[43mmodel\u001B[49m\u001B[43m,\u001B[49m\n\u001B[1;32m    518\u001B[0m \u001B[43m        \u001B[49m\u001B[43margs\u001B[49m\u001B[43m,\u001B[49m\n\u001B[1;32m    519\u001B[0m \u001B[43m        \u001B[49m\u001B[43mf\u001B[49m\u001B[43m,\u001B[49m\n\u001B[1;32m    520\u001B[0m \u001B[43m        \u001B[49m\u001B[43mexport_params\u001B[49m\u001B[43m,\u001B[49m\n\u001B[1;32m    521\u001B[0m \u001B[43m        \u001B[49m\u001B[43mverbose\u001B[49m\u001B[43m,\u001B[49m\n\u001B[1;32m    522\u001B[0m \u001B[43m        \u001B[49m\u001B[43mtraining\u001B[49m\u001B[43m,\u001B[49m\n\u001B[1;32m    523\u001B[0m \u001B[43m        \u001B[49m\u001B[43minput_names\u001B[49m\u001B[43m,\u001B[49m\n\u001B[1;32m    524\u001B[0m \u001B[43m        \u001B[49m\u001B[43moutput_names\u001B[49m\u001B[43m,\u001B[49m\n\u001B[1;32m    525\u001B[0m \u001B[43m        \u001B[49m\u001B[43moperator_export_type\u001B[49m\u001B[38;5;241;43m=\u001B[39;49m\u001B[43moperator_export_type\u001B[49m\u001B[43m,\u001B[49m\n\u001B[1;32m    526\u001B[0m \u001B[43m        \u001B[49m\u001B[43mopset_version\u001B[49m\u001B[38;5;241;43m=\u001B[39;49m\u001B[43mopset_version\u001B[49m\u001B[43m,\u001B[49m\n\u001B[1;32m    527\u001B[0m \u001B[43m        \u001B[49m\u001B[43mdo_constant_folding\u001B[49m\u001B[38;5;241;43m=\u001B[39;49m\u001B[43mdo_constant_folding\u001B[49m\u001B[43m,\u001B[49m\n\u001B[1;32m    528\u001B[0m \u001B[43m        \u001B[49m\u001B[43mdynamic_axes\u001B[49m\u001B[38;5;241;43m=\u001B[39;49m\u001B[43mdynamic_axes\u001B[49m\u001B[43m,\u001B[49m\n\u001B[1;32m    529\u001B[0m \u001B[43m        \u001B[49m\u001B[43mkeep_initializers_as_inputs\u001B[49m\u001B[38;5;241;43m=\u001B[39;49m\u001B[43mkeep_initializers_as_inputs\u001B[49m\u001B[43m,\u001B[49m\n\u001B[1;32m    530\u001B[0m \u001B[43m        \u001B[49m\u001B[43mcustom_opsets\u001B[49m\u001B[38;5;241;43m=\u001B[39;49m\u001B[43mcustom_opsets\u001B[49m\u001B[43m,\u001B[49m\n\u001B[1;32m    531\u001B[0m \u001B[43m        \u001B[49m\u001B[43mexport_modules_as_functions\u001B[49m\u001B[38;5;241;43m=\u001B[39;49m\u001B[43mexport_modules_as_functions\u001B[49m\u001B[43m,\u001B[49m\n\u001B[1;32m    532\u001B[0m \u001B[43m        \u001B[49m\u001B[43mautograd_inlining\u001B[49m\u001B[38;5;241;43m=\u001B[39;49m\u001B[43mautograd_inlining\u001B[49m\u001B[43m,\u001B[49m\n\u001B[1;32m    533\u001B[0m \u001B[43m    \u001B[49m\u001B[43m)\u001B[49m\n",
      "File \u001B[0;32m~/miniconda3/envs/chgnet/lib/python3.9/site-packages/torch/onnx/utils.py:1612\u001B[0m, in \u001B[0;36m_export\u001B[0;34m(model, args, f, export_params, verbose, training, input_names, output_names, operator_export_type, export_type, opset_version, do_constant_folding, dynamic_axes, keep_initializers_as_inputs, fixed_batch_size, custom_opsets, add_node_names, onnx_shape_inference, export_modules_as_functions, autograd_inlining)\u001B[0m\n\u001B[1;32m   1609\u001B[0m     dynamic_axes \u001B[38;5;241m=\u001B[39m {}\n\u001B[1;32m   1610\u001B[0m _validate_dynamic_axes(dynamic_axes, model, input_names, output_names)\n\u001B[0;32m-> 1612\u001B[0m graph, params_dict, torch_out \u001B[38;5;241m=\u001B[39m \u001B[43m_model_to_graph\u001B[49m\u001B[43m(\u001B[49m\n\u001B[1;32m   1613\u001B[0m \u001B[43m    \u001B[49m\u001B[43mmodel\u001B[49m\u001B[43m,\u001B[49m\n\u001B[1;32m   1614\u001B[0m \u001B[43m    \u001B[49m\u001B[43margs\u001B[49m\u001B[43m,\u001B[49m\n\u001B[1;32m   1615\u001B[0m \u001B[43m    \u001B[49m\u001B[43mverbose\u001B[49m\u001B[43m,\u001B[49m\n\u001B[1;32m   1616\u001B[0m \u001B[43m    \u001B[49m\u001B[43minput_names\u001B[49m\u001B[43m,\u001B[49m\n\u001B[1;32m   1617\u001B[0m \u001B[43m    \u001B[49m\u001B[43moutput_names\u001B[49m\u001B[43m,\u001B[49m\n\u001B[1;32m   1618\u001B[0m \u001B[43m    \u001B[49m\u001B[43moperator_export_type\u001B[49m\u001B[43m,\u001B[49m\n\u001B[1;32m   1619\u001B[0m \u001B[43m    \u001B[49m\u001B[43mval_do_constant_folding\u001B[49m\u001B[43m,\u001B[49m\n\u001B[1;32m   1620\u001B[0m \u001B[43m    \u001B[49m\u001B[43mfixed_batch_size\u001B[49m\u001B[38;5;241;43m=\u001B[39;49m\u001B[43mfixed_batch_size\u001B[49m\u001B[43m,\u001B[49m\n\u001B[1;32m   1621\u001B[0m \u001B[43m    \u001B[49m\u001B[43mtraining\u001B[49m\u001B[38;5;241;43m=\u001B[39;49m\u001B[43mtraining\u001B[49m\u001B[43m,\u001B[49m\n\u001B[1;32m   1622\u001B[0m \u001B[43m    \u001B[49m\u001B[43mdynamic_axes\u001B[49m\u001B[38;5;241;43m=\u001B[39;49m\u001B[43mdynamic_axes\u001B[49m\u001B[43m,\u001B[49m\n\u001B[1;32m   1623\u001B[0m \u001B[43m\u001B[49m\u001B[43m)\u001B[49m\n\u001B[1;32m   1625\u001B[0m \u001B[38;5;66;03m# TODO: Don't allocate a in-memory string for the protobuf\u001B[39;00m\n\u001B[1;32m   1626\u001B[0m defer_weight_export \u001B[38;5;241m=\u001B[39m (\n\u001B[1;32m   1627\u001B[0m     export_type \u001B[38;5;129;01mis\u001B[39;00m \u001B[38;5;129;01mnot\u001B[39;00m _exporter_states\u001B[38;5;241m.\u001B[39mExportTypes\u001B[38;5;241m.\u001B[39mPROTOBUF_FILE\n\u001B[1;32m   1628\u001B[0m )\n",
      "File \u001B[0;32m~/miniconda3/envs/chgnet/lib/python3.9/site-packages/torch/onnx/utils.py:1138\u001B[0m, in \u001B[0;36m_model_to_graph\u001B[0;34m(model, args, verbose, input_names, output_names, operator_export_type, do_constant_folding, _disable_torch_constant_prop, fixed_batch_size, training, dynamic_axes)\u001B[0m\n\u001B[1;32m   1135\u001B[0m params_dict \u001B[38;5;241m=\u001B[39m _get_named_param_dict(graph, params)\n\u001B[1;32m   1137\u001B[0m \u001B[38;5;28;01mtry\u001B[39;00m:\n\u001B[0;32m-> 1138\u001B[0m     graph \u001B[38;5;241m=\u001B[39m \u001B[43m_optimize_graph\u001B[49m\u001B[43m(\u001B[49m\n\u001B[1;32m   1139\u001B[0m \u001B[43m        \u001B[49m\u001B[43mgraph\u001B[49m\u001B[43m,\u001B[49m\n\u001B[1;32m   1140\u001B[0m \u001B[43m        \u001B[49m\u001B[43moperator_export_type\u001B[49m\u001B[43m,\u001B[49m\n\u001B[1;32m   1141\u001B[0m \u001B[43m        \u001B[49m\u001B[43m_disable_torch_constant_prop\u001B[49m\u001B[38;5;241;43m=\u001B[39;49m\u001B[43m_disable_torch_constant_prop\u001B[49m\u001B[43m,\u001B[49m\n\u001B[1;32m   1142\u001B[0m \u001B[43m        \u001B[49m\u001B[43mfixed_batch_size\u001B[49m\u001B[38;5;241;43m=\u001B[39;49m\u001B[43mfixed_batch_size\u001B[49m\u001B[43m,\u001B[49m\n\u001B[1;32m   1143\u001B[0m \u001B[43m        \u001B[49m\u001B[43mparams_dict\u001B[49m\u001B[38;5;241;43m=\u001B[39;49m\u001B[43mparams_dict\u001B[49m\u001B[43m,\u001B[49m\n\u001B[1;32m   1144\u001B[0m \u001B[43m        \u001B[49m\u001B[43mdynamic_axes\u001B[49m\u001B[38;5;241;43m=\u001B[39;49m\u001B[43mdynamic_axes\u001B[49m\u001B[43m,\u001B[49m\n\u001B[1;32m   1145\u001B[0m \u001B[43m        \u001B[49m\u001B[43minput_names\u001B[49m\u001B[38;5;241;43m=\u001B[39;49m\u001B[43minput_names\u001B[49m\u001B[43m,\u001B[49m\n\u001B[1;32m   1146\u001B[0m \u001B[43m        \u001B[49m\u001B[43mmodule\u001B[49m\u001B[38;5;241;43m=\u001B[39;49m\u001B[43mmodule\u001B[49m\u001B[43m,\u001B[49m\n\u001B[1;32m   1147\u001B[0m \u001B[43m    \u001B[49m\u001B[43m)\u001B[49m\n\u001B[1;32m   1148\u001B[0m \u001B[38;5;28;01mexcept\u001B[39;00m \u001B[38;5;167;01mException\u001B[39;00m \u001B[38;5;28;01mas\u001B[39;00m e:\n\u001B[1;32m   1149\u001B[0m     torch\u001B[38;5;241m.\u001B[39monnx\u001B[38;5;241m.\u001B[39mlog(\u001B[38;5;124m\"\u001B[39m\u001B[38;5;124mTorch IR graph at exception: \u001B[39m\u001B[38;5;124m\"\u001B[39m, graph)\n",
      "File \u001B[0;32m~/miniconda3/envs/chgnet/lib/python3.9/site-packages/torch/onnx/utils.py:677\u001B[0m, in \u001B[0;36m_optimize_graph\u001B[0;34m(graph, operator_export_type, _disable_torch_constant_prop, fixed_batch_size, params_dict, dynamic_axes, input_names, module)\u001B[0m\n\u001B[1;32m    674\u001B[0m     _C\u001B[38;5;241m.\u001B[39m_jit_pass_onnx_set_dynamic_input_shape(graph, dynamic_axes, input_names)\n\u001B[1;32m    675\u001B[0m _C\u001B[38;5;241m.\u001B[39m_jit_pass_onnx_lint(graph)\n\u001B[0;32m--> 677\u001B[0m graph \u001B[38;5;241m=\u001B[39m \u001B[43m_C\u001B[49m\u001B[38;5;241;43m.\u001B[39;49m\u001B[43m_jit_pass_onnx\u001B[49m\u001B[43m(\u001B[49m\u001B[43mgraph\u001B[49m\u001B[43m,\u001B[49m\u001B[43m \u001B[49m\u001B[43moperator_export_type\u001B[49m\u001B[43m)\u001B[49m\n\u001B[1;32m    678\u001B[0m _C\u001B[38;5;241m.\u001B[39m_jit_pass_onnx_lint(graph)\n\u001B[1;32m    679\u001B[0m _C\u001B[38;5;241m.\u001B[39m_jit_pass_lint(graph)\n",
      "File \u001B[0;32m~/miniconda3/envs/chgnet/lib/python3.9/site-packages/torch/onnx/utils.py:1956\u001B[0m, in \u001B[0;36m_run_symbolic_function\u001B[0;34m(graph, block, node, inputs, env, operator_export_type)\u001B[0m\n\u001B[1;32m   1951\u001B[0m     \u001B[38;5;28;01mif\u001B[39;00m symbolic_fn \u001B[38;5;129;01mis\u001B[39;00m \u001B[38;5;129;01mnot\u001B[39;00m \u001B[38;5;28;01mNone\u001B[39;00m:\n\u001B[1;32m   1952\u001B[0m         \u001B[38;5;66;03m# TODO Wrap almost identical attrs assignment or comment the difference.\u001B[39;00m\n\u001B[1;32m   1953\u001B[0m         attrs \u001B[38;5;241m=\u001B[39m {\n\u001B[1;32m   1954\u001B[0m             k: symbolic_helper\u001B[38;5;241m.\u001B[39m_node_get(node, k) \u001B[38;5;28;01mfor\u001B[39;00m k \u001B[38;5;129;01min\u001B[39;00m node\u001B[38;5;241m.\u001B[39mattributeNames()\n\u001B[1;32m   1955\u001B[0m         }\n\u001B[0;32m-> 1956\u001B[0m         \u001B[38;5;28;01mreturn\u001B[39;00m \u001B[43msymbolic_fn\u001B[49m\u001B[43m(\u001B[49m\u001B[43mgraph_context\u001B[49m\u001B[43m,\u001B[49m\u001B[43m \u001B[49m\u001B[38;5;241;43m*\u001B[39;49m\u001B[43minputs\u001B[49m\u001B[43m,\u001B[49m\u001B[43m \u001B[49m\u001B[38;5;241;43m*\u001B[39;49m\u001B[38;5;241;43m*\u001B[39;49m\u001B[43mattrs\u001B[49m\u001B[43m)\u001B[49m\n\u001B[1;32m   1958\u001B[0m attrs \u001B[38;5;241m=\u001B[39m {\n\u001B[1;32m   1959\u001B[0m     k \u001B[38;5;241m+\u001B[39m \u001B[38;5;124m\"\u001B[39m\u001B[38;5;124m_\u001B[39m\u001B[38;5;124m\"\u001B[39m \u001B[38;5;241m+\u001B[39m node\u001B[38;5;241m.\u001B[39mkindOf(k)[\u001B[38;5;241m0\u001B[39m]: symbolic_helper\u001B[38;5;241m.\u001B[39m_node_get(node, k)\n\u001B[1;32m   1960\u001B[0m     \u001B[38;5;28;01mfor\u001B[39;00m k \u001B[38;5;129;01min\u001B[39;00m node\u001B[38;5;241m.\u001B[39mattributeNames()\n\u001B[1;32m   1961\u001B[0m }\n\u001B[1;32m   1962\u001B[0m \u001B[38;5;28;01mif\u001B[39;00m namespace \u001B[38;5;241m==\u001B[39m \u001B[38;5;124m\"\u001B[39m\u001B[38;5;124monnx\u001B[39m\u001B[38;5;124m\"\u001B[39m:\n\u001B[1;32m   1963\u001B[0m     \u001B[38;5;66;03m# Clone node to trigger ONNX shape inference\u001B[39;00m\n",
      "File \u001B[0;32m~/miniconda3/envs/chgnet/lib/python3.9/site-packages/torch/onnx/symbolic_opset11.py:1003\u001B[0m, in \u001B[0;36mindex\u001B[0;34m(g, self, index)\u001B[0m\n\u001B[1;32m    999\u001B[0m \u001B[38;5;28;01mif\u001B[39;00m \u001B[38;5;28mlen\u001B[39m(indices) \u001B[38;5;241m==\u001B[39m \u001B[38;5;241m1\u001B[39m:\n\u001B[1;32m   1000\u001B[0m     index \u001B[38;5;241m=\u001B[39m indices[\u001B[38;5;241m0\u001B[39m]\n\u001B[1;32m   1001\u001B[0m     \u001B[38;5;28;01mif\u001B[39;00m \u001B[38;5;129;01mnot\u001B[39;00m symbolic_helper\u001B[38;5;241m.\u001B[39m_is_none(index) \u001B[38;5;129;01mand\u001B[39;00m (\n\u001B[1;32m   1002\u001B[0m         symbolic_helper\u001B[38;5;241m.\u001B[39m_is_bool(index)\n\u001B[0;32m-> 1003\u001B[0m         \u001B[38;5;129;01mor\u001B[39;00m \u001B[43m_type_utils\u001B[49m\u001B[38;5;241;43m.\u001B[39;49m\u001B[43mJitScalarType\u001B[49m\u001B[38;5;241;43m.\u001B[39;49m\u001B[43mfrom_value\u001B[49m\u001B[43m(\u001B[49m\u001B[43mindex\u001B[49m\u001B[43m)\u001B[49m\n\u001B[1;32m   1004\u001B[0m         \u001B[38;5;241m==\u001B[39m _type_utils\u001B[38;5;241m.\u001B[39mJitScalarType\u001B[38;5;241m.\u001B[39mUINT8\n\u001B[1;32m   1005\u001B[0m     ):\n\u001B[1;32m   1006\u001B[0m         index \u001B[38;5;241m=\u001B[39m opset9\u001B[38;5;241m.\u001B[39mnonzero(g, index)\n\u001B[1;32m   1007\u001B[0m         \u001B[38;5;28;01mreturn\u001B[39;00m g\u001B[38;5;241m.\u001B[39mop(\u001B[38;5;124m\"\u001B[39m\u001B[38;5;124mGatherND\u001B[39m\u001B[38;5;124m\"\u001B[39m, \u001B[38;5;28mself\u001B[39m, index)\n",
      "File \u001B[0;32m~/miniconda3/envs/chgnet/lib/python3.9/site-packages/torch/onnx/_type_utils.py:223\u001B[0m, in \u001B[0;36mJitScalarType.from_value\u001B[0;34m(cls, value, default)\u001B[0m\n\u001B[1;32m    221\u001B[0m \u001B[38;5;28;01mif\u001B[39;00m default \u001B[38;5;129;01mis\u001B[39;00m \u001B[38;5;129;01mnot\u001B[39;00m \u001B[38;5;28;01mNone\u001B[39;00m:\n\u001B[1;32m    222\u001B[0m     \u001B[38;5;28;01mreturn\u001B[39;00m default\n\u001B[0;32m--> 223\u001B[0m \u001B[38;5;28;01mraise\u001B[39;00m errors\u001B[38;5;241m.\u001B[39mSymbolicValueError(\n\u001B[1;32m    224\u001B[0m     \u001B[38;5;124mf\u001B[39m\u001B[38;5;124m\"\u001B[39m\u001B[38;5;124mCannot determine scalar type for this \u001B[39m\u001B[38;5;124m'\u001B[39m\u001B[38;5;132;01m{\u001B[39;00m\u001B[38;5;28mtype\u001B[39m(value\u001B[38;5;241m.\u001B[39mtype())\u001B[38;5;132;01m}\u001B[39;00m\u001B[38;5;124m'\u001B[39m\u001B[38;5;124m instance and \u001B[39m\u001B[38;5;124m\"\u001B[39m\n\u001B[1;32m    225\u001B[0m     \u001B[38;5;124m\"\u001B[39m\u001B[38;5;124ma default value was not provided.\u001B[39m\u001B[38;5;124m\"\u001B[39m,\n\u001B[1;32m    226\u001B[0m     value,\n\u001B[1;32m    227\u001B[0m )\n",
      "\u001B[0;31mSymbolicValueError\u001B[0m: Cannot determine scalar type for this '<class 'torch.TensorType'>' instance and a default value was not provided.  [Caused by the value '182 defined in (%182 : Tensor = onnx::Gather[axis=1](%157, %149), scope: chgnet.model.model.CHGNet:: # /Users/chrisfajardo/git_repos/chgnet/chgnet/model/model.py:875:0\n)' (type 'Tensor') in the TorchScript graph. The containing node has kind 'onnx::Gather'.] \n    (node defined in /Users/chrisfajardo/git_repos/chgnet/chgnet/model/model.py(875): get_batch_graph_from_graphs\n/Users/chrisfajardo/git_repos/chgnet/chgnet/model/model.py(382): forward\n/Users/chrisfajardo/miniconda3/envs/chgnet/lib/python3.9/site-packages/torch/nn/modules/module.py(1522): _slow_forward\n/Users/chrisfajardo/miniconda3/envs/chgnet/lib/python3.9/site-packages/torch/nn/modules/module.py(1541): _call_impl\n/Users/chrisfajardo/miniconda3/envs/chgnet/lib/python3.9/site-packages/torch/nn/modules/module.py(1532): _wrapped_call_impl\n/Users/chrisfajardo/miniconda3/envs/chgnet/lib/python3.9/site-packages/torch/jit/_trace.py(1088): trace_module\n/Users/chrisfajardo/miniconda3/envs/chgnet/lib/python3.9/site-packages/torch/jit/_trace.py(820): trace\n/var/folders/89/hcxcrt7s2zb8yq5x9mmscspw0000gq/T/ipykernel_4148/2315511256.py(1): <module>\n/Users/chrisfajardo/miniconda3/envs/chgnet/lib/python3.9/site-packages/IPython/core/interactiveshell.py(3526): run_code\n/Users/chrisfajardo/miniconda3/envs/chgnet/lib/python3.9/site-packages/IPython/core/interactiveshell.py(3466): run_ast_nodes\n/Users/chrisfajardo/miniconda3/envs/chgnet/lib/python3.9/site-packages/IPython/core/interactiveshell.py(3284): run_cell_async\n/Users/chrisfajardo/miniconda3/envs/chgnet/lib/python3.9/site-packages/IPython/core/async_helpers.py(129): _pseudo_sync_runner\n/Users/chrisfajardo/miniconda3/envs/chgnet/lib/python3.9/site-packages/IPython/core/interactiveshell.py(3079): _run_cell\n/Users/chrisfajardo/miniconda3/envs/chgnet/lib/python3.9/site-packages/IPython/core/interactiveshell.py(3024): run_cell\n/Users/chrisfajardo/miniconda3/envs/chgnet/lib/python3.9/site-packages/ipykernel/zmqshell.py(549): run_cell\n/Users/chrisfajardo/miniconda3/envs/chgnet/lib/python3.9/site-packages/ipykernel/ipkernel.py(429): do_execute\n/Users/chrisfajardo/miniconda3/envs/chgnet/lib/python3.9/site-packages/ipykernel/kernelbase.py(767): execute_request\n/Users/chrisfajardo/miniconda3/envs/chgnet/lib/python3.9/site-packages/ipykernel/kernelbase.py(429): dispatch_shell\n/Users/chrisfajardo/miniconda3/envs/chgnet/lib/python3.9/site-packages/ipykernel/kernelbase.py(523): process_one\n/Users/chrisfajardo/miniconda3/envs/chgnet/lib/python3.9/site-packages/ipykernel/kernelbase.py(534): dispatch_queue\n/Users/chrisfajardo/miniconda3/envs/chgnet/lib/python3.9/asyncio/events.py(80): _run\n/Users/chrisfajardo/miniconda3/envs/chgnet/lib/python3.9/asyncio/base_events.py(1905): _run_once\n/Users/chrisfajardo/miniconda3/envs/chgnet/lib/python3.9/asyncio/base_events.py(601): run_forever\n/Users/chrisfajardo/miniconda3/envs/chgnet/lib/python3.9/site-packages/tornado/platform/asyncio.py(195): start\n/Users/chrisfajardo/miniconda3/envs/chgnet/lib/python3.9/site-packages/ipykernel/kernelapp.py(701): start\n/Users/chrisfajardo/miniconda3/envs/chgnet/lib/python3.9/site-packages/traitlets/config/application.py(992): launch_instance\n/Users/chrisfajardo/miniconda3/envs/chgnet/lib/python3.9/site-packages/ipykernel_launcher.py(17): <module>\n/Users/chrisfajardo/miniconda3/envs/chgnet/lib/python3.9/runpy.py(87): _run_code\n/Users/chrisfajardo/miniconda3/envs/chgnet/lib/python3.9/runpy.py(197): _run_module_as_main\n)\n\n    Inputs:\n        #0: 157 defined in (%155 : Tensor, %156 : Tensor, %157 : Tensor, %158 : Tensor, %image : Tensor, %160 : Tensor, %undirected2directed : Tensor, %162 : Tensor, %163 : Tensor, %lattice : Tensor = prim::ListUnpack(%154), scope: chgnet.model.model.CHGNet::\n    )  (type 'Tensor')\n        #1: 149 defined in (%149 : Long(device=cpu) = onnx::Constant[value={0}](), scope: chgnet.model.model.CHGNet::\n    )  (type 'Tensor')\n    Outputs:\n        #0: 182 defined in (%182 : Tensor = onnx::Gather[axis=1](%157, %149), scope: chgnet.model.model.CHGNet:: # /Users/chrisfajardo/git_repos/chgnet/chgnet/model/model.py:875:0\n    )  (type 'Tensor')"
     ]
    }
   ],
   "source": [
    "torch.onnx.export(traced, [list(graph)], f=\"chgnet.onnx\")"
   ],
   "metadata": {
    "collapsed": false,
    "ExecuteTime": {
     "end_time": "2024-05-20T23:43:24.226768Z",
     "start_time": "2024-05-20T23:43:24.037201Z"
    }
   },
   "id": "56732aa7163fba49"
  },
  {
   "cell_type": "code",
   "execution_count": null,
   "outputs": [],
   "source": [
    "#scripted = torch.jit.script(chgnet, example_inputs=[([graph.to_dict()],)])"
   ],
   "metadata": {
    "collapsed": false
   },
   "id": "f1504b7852a2eaa7"
  }
 ],
 "metadata": {
  "kernelspec": {
   "display_name": "py311",
   "language": "python",
   "name": "python3"
  },
  "language_info": {
   "codemirror_mode": {
    "name": "ipython",
    "version": 3
   },
   "file_extension": ".py",
   "mimetype": "text/x-python",
   "name": "python",
   "nbconvert_exporter": "python",
   "pygments_lexer": "ipython3",
   "version": "3.11.7"
  }
 },
 "nbformat": 4,
 "nbformat_minor": 5
}
