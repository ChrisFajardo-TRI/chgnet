{
 "cells": [
  {
   "cell_type": "markdown",
   "id": "0",
   "metadata": {},
   "source": [
    "# ONNX Usage"
   ]
  },
  {
   "cell_type": "code",
   "execution_count": 1,
   "outputs": [
    {
     "name": "stdout",
     "output_type": "stream",
     "text": [
      "CHGNet v0.3.0 initialized with 412,525 parameters\n",
      "CHGNet will run on mps\n"
     ]
    },
    {
     "name": "stderr",
     "output_type": "stream",
     "text": [
      "/Users/chrisfajardo/git_repos/chgnet/chgnet/model/model.py:399: UserWarning: To copy construct from a tensor, it is recommended to use sourceTensor.clone().detach() or sourceTensor.clone().detach().requires_grad_(True), rather than torch.tensor(sourceTensor).\n",
      "  new_e = prediction[PredictionAttr.e] + torch.tensor(comp_energy)\n"
     ]
    },
    {
     "data": {
      "text/plain": "Prediction(atoms_per_graph=tensor([4]), atom_fea=tensor([-123]), site_energies=tensor([-123]), crystal_fea=tensor([-123]), e=tensor([-2.8300]), f=tensor([-123]), m=tensor([-123]), s=tensor([-123]))"
     },
     "execution_count": 1,
     "metadata": {},
     "output_type": "execute_result"
    }
   ],
   "source": [
    "from pymatgen.core import Structure\n",
    "\n",
    "from chgnet.model import CHGNet\n",
    "structure = Structure.from_file(\"/Users/chrisfajardo/git_repos/pochi/Li.cif\")\n",
    "chgnet = CHGNet.load()\n",
    "graph = chgnet.graph_converter(structure)\n",
    "chgnet = chgnet.to(\"cpu\")\n",
    "chgnet = chgnet.eval()\n",
    "chgnet.forward(graph)"
   ],
   "metadata": {
    "collapsed": false,
    "ExecuteTime": {
     "end_time": "2024-05-22T00:30:16.050856Z",
     "start_time": "2024-05-22T00:30:14.191801Z"
    }
   },
   "id": "106c5b8ef42d43c4"
  },
  {
   "cell_type": "code",
   "execution_count": 2,
   "outputs": [],
   "source": [
    "import onnxruntime"
   ],
   "metadata": {
    "collapsed": false,
    "ExecuteTime": {
     "end_time": "2024-05-22T00:30:16.623230Z",
     "start_time": "2024-05-22T00:30:16.598692Z"
    }
   },
   "id": "395236b9b522174a"
  },
  {
   "cell_type": "code",
   "execution_count": 3,
   "outputs": [],
   "source": [
    "ort_session = onnxruntime.InferenceSession(\"chgnet.onnx\", providers=[\"CPUExecutionProvider\"])"
   ],
   "metadata": {
    "collapsed": false,
    "ExecuteTime": {
     "end_time": "2024-05-22T00:30:17.721586Z",
     "start_time": "2024-05-22T00:30:17.719375Z"
    }
   },
   "id": "c460fa99dcc6d0c8"
  },
  {
   "cell_type": "code",
   "execution_count": 4,
   "outputs": [
    {
     "data": {
      "text/plain": "[]"
     },
     "execution_count": 4,
     "metadata": {},
     "output_type": "execute_result"
    }
   ],
   "source": [
    "ort_session.get_inputs()"
   ],
   "metadata": {
    "collapsed": false,
    "ExecuteTime": {
     "end_time": "2024-05-22T00:30:23.115214Z",
     "start_time": "2024-05-22T00:30:23.109307Z"
    }
   },
   "id": "1bdc4affd9b9a4ae"
  },
  {
   "cell_type": "code",
   "execution_count": 9,
   "outputs": [
    {
     "data": {
      "text/plain": "[array([4], dtype=int64),\n array(-123, dtype=int64),\n array(-123, dtype=int64),\n array(-123, dtype=int64),\n array([-2.83], dtype=float32),\n array(-123, dtype=int64),\n array(-123, dtype=int64),\n array(-123, dtype=int64)]"
     },
     "execution_count": 9,
     "metadata": {},
     "output_type": "execute_result"
    }
   ],
   "source": [
    "ort_session.run(None, {})"
   ],
   "metadata": {
    "collapsed": false,
    "ExecuteTime": {
     "end_time": "2024-05-22T00:19:29.047172Z",
     "start_time": "2024-05-22T00:19:29.037979Z"
    }
   },
   "id": "52581736e41fc020"
  },
  {
   "cell_type": "code",
   "execution_count": null,
   "outputs": [],
   "source": [],
   "metadata": {
    "collapsed": false
   },
   "id": "6257833cd74feca2"
  }
 ],
 "metadata": {
  "kernelspec": {
   "display_name": "py311",
   "language": "python",
   "name": "python3"
  },
  "language_info": {
   "codemirror_mode": {
    "name": "ipython",
    "version": 3
   },
   "file_extension": ".py",
   "mimetype": "text/x-python",
   "name": "python",
   "nbconvert_exporter": "python",
   "pygments_lexer": "ipython3",
   "version": "3.11.7"
  }
 },
 "nbformat": 4,
 "nbformat_minor": 5
}
